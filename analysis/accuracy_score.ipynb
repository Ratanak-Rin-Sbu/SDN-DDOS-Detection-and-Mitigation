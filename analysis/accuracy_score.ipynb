{
 "cells": [
  {
   "cell_type": "code",
   "execution_count": 6,
   "metadata": {},
   "outputs": [
    {
     "name": "stdout",
     "output_type": "stream",
     "text": [
      "Accuracy is  100.0\n",
      "cross-validation score 0.9804761904761905\n"
     ]
    }
   ],
   "source": [
    "#Accuracy reference: https://github.com/kshitijved/Support_Vector_Machine\n",
    "\n",
    "from sklearn import svm, datasets\n",
    "import matplotlib.pyplot as plt\n",
    "import numpy as np\n",
    "from sklearn.metrics import accuracy_score\n",
    "from sklearn.model_selection import train_test_split\n",
    "from sklearn import tree\n",
    "\n",
    "\n",
    "from sklearn.model_selection import cross_val_score\n",
    "\n",
    "#step1: Load the data in numpy array\n",
    "data = np.loadtxt(open('result3.csv', 'rb'), delimiter=',')\n",
    "X = data[:, 0:3]\n",
    "y = data[:, 3]\n",
    "\n",
    "#step2: Split the data to training & test data. Test-size is 0.25(25%) of data\n",
    "x_train, x_test, y_train, y_test = train_test_split(X, y, random_state = 0, test_size = 0.25)\n",
    "\n",
    "\n",
    "#step3: select the machine learning algorithm\n",
    "\n",
    "#svm\n",
    "#clf = svm.SVC()\n",
    "clf = svm.SVC(kernel=\"linear\",C=0.025)\n",
    "#clf = tree.DecisionTreeClassifier()\n",
    "\n",
    "#step4: Train the ML Algo with training data\n",
    "clf.fit(x_train, y_train)\n",
    "\n",
    "\n",
    "#step5: Pass the test data for classify or predict\n",
    "classifier_predictions = clf.predict(x_test)\n",
    "\n",
    "#step6. Calculate the accuracy from the the prediction result.\n",
    "print(\"Accuracy is \", accuracy_score(y_test, classifier_predictions)*100)\n",
    "\n",
    "\n",
    "#step7. calculate cross validation score\n",
    "scores = cross_val_score(clf, x_train, y_train, cv=5)\n",
    "print(\"cross-validation score\",scores.mean())\n"
   ]
  },
  {
   "cell_type": "code",
   "execution_count": null,
   "metadata": {},
   "outputs": [],
   "source": []
  }
 ],
 "metadata": {
  "anaconda-cloud": {},
  "kernelspec": {
   "display_name": "Python 3 (ipykernel)",
   "language": "python",
   "name": "python3"
  },
  "language_info": {
   "codemirror_mode": {
    "name": "ipython",
    "version": 3
   },
   "file_extension": ".py",
   "mimetype": "text/x-python",
   "name": "python",
   "nbconvert_exporter": "python",
   "pygments_lexer": "ipython3",
   "version": "3.9.12"
  }
 },
 "nbformat": 4,
 "nbformat_minor": 4
}
