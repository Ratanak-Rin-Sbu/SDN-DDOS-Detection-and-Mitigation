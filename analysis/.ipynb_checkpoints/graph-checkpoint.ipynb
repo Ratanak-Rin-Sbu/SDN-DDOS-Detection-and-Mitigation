{
 "cells": [
  {
   "cell_type": "code",
   "execution_count": 2,
   "metadata": {},
   "outputs": [
    {
     "ename": "SyntaxError",
     "evalue": "invalid syntax (754081249.py, line 2)",
     "output_type": "error",
     "traceback": [
      "\u001b[1;36m  Input \u001b[1;32mIn [2]\u001b[1;36m\u001b[0m\n\u001b[1;33m    pip install mlxtend\u001b[0m\n\u001b[1;37m        ^\u001b[0m\n\u001b[1;31mSyntaxError\u001b[0m\u001b[1;31m:\u001b[0m invalid syntax\n"
     ]
    }
   ],
   "source": [
    "#http://rasbt.github.io/mlxtend/user_guide/plotting/plot_decision_regions/\n",
    "!pip install mlxtend\n",
    "from __future__ import division\n",
    "import numpy\n",
    "import os\n",
    "from sklearn import svm\n",
    "from collections import deque\n",
    "import matplotlib.pyplot as plt\n",
    "from mlxtend.plotting import plot_decision_regions\n",
    "import numpy as np\n",
    "\n",
    "data = np.loadtxt(open('result.csv', 'rb'), delimiter=',')\n",
    "\n",
    "#sfe,ssip,rfip\n",
    "sfe = 0\n",
    "ssip = 1\n",
    "rfip = 2\n",
    "\n",
    "\n",
    "\n",
    "\n",
    "\n",
    "#Graph1 sfe & ssip\n",
    "X = data[:, [sfe,ssip]]\n",
    "y = data[:, 3]\n",
    "clf = svm.SVC()\n",
    "clf.fit(X, y)\n",
    "# Plot Decision Region using mlxtend's awesome plotting function\n",
    "fig = plt.figure(figsize=(10,8))\n",
    "fig = plot_decision_regions(X=X,\n",
    "                      y=y.astype(int),\n",
    "                      clf=clf,\n",
    "                      legend=2)\n",
    "plt.title('SVM DDoS - Decision Region Boundary', size=16)\n",
    "plt.xlabel('Speed of Flow Entry')\n",
    "plt.ylabel('Speed of Source IP')\n",
    "plt.savefig(\"svm_graph1.png\")\n",
    "\n",
    "\n",
    "\n",
    "\n",
    "#Graph1 sfe & rfip\n",
    "X = data[:, [sfe,rfip]]\n",
    "y = data[:, 3]\n",
    "clf = svm.SVC()\n",
    "clf.fit(X, y)\n",
    "# Plot Decision Region using mlxtend's awesome plotting function\n",
    "fig = plt.figure(figsize=(10,8))\n",
    "fig = plot_decision_regions(X=X,\n",
    "                      y=y.astype(int),\n",
    "                      clf=clf,\n",
    "                      legend=2)\n",
    "plt.title('SVM DDoS - Decision Region Boundary', size=16)\n",
    "plt.xlabel('sfe')\n",
    "plt.ylabel('rfip')\n",
    "plt.savefig(\"svm_graph2.png\")\n"
   ]
  },
  {
   "cell_type": "code",
   "execution_count": null,
   "metadata": {},
   "outputs": [],
   "source": []
  }
 ],
 "metadata": {
  "anaconda-cloud": {},
  "kernelspec": {
   "display_name": "Python 3 (ipykernel)",
   "language": "python",
   "name": "python3"
  },
  "language_info": {
   "codemirror_mode": {
    "name": "ipython",
    "version": 3
   },
   "file_extension": ".py",
   "mimetype": "text/x-python",
   "name": "python",
   "nbconvert_exporter": "python",
   "pygments_lexer": "ipython3",
   "version": "3.9.12"
  }
 },
 "nbformat": 4,
 "nbformat_minor": 4
}
