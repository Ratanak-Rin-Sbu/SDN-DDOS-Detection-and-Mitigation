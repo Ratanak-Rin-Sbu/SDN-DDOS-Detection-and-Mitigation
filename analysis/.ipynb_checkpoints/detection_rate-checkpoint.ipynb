{
 "cells": [
  {
   "cell_type": "code",
   "execution_count": 1,
   "metadata": {},
   "outputs": [
    {
     "name": "stdout",
     "output_type": "stream",
     "text": [
      "Calculating Detection Ratio & False \n",
      "Detection rate  1.0\n",
      "False Alarm rate  0.0\n"
     ]
    }
   ],
   "source": [
    "#Accuracy reference: https://github.com/kshitijved/Support_Vector_Machine\n",
    "\n",
    "from sklearn import svm, datasets\n",
    "import matplotlib.pyplot as plt\n",
    "import numpy as np\n",
    "from sklearn.metrics import accuracy_score\n",
    "from sklearn.model_selection import train_test_split\n",
    "\n",
    "\n",
    "\n",
    "#step1: Load the data in numpy array\n",
    "data = np.loadtxt(open('result.csv', 'rb'), delimiter=',')\n",
    "\n",
    "\n",
    "#step2: Split the data to training & test data. Test-size is 0.25(25%) of data\n",
    "X = data[:, 0:3]\n",
    "y = data[:, 3]\n",
    "x_train, x_test, y_train, y_test = train_test_split(X, y, random_state = 0, test_size = 0.25)#clf = svm.SVC()\n",
    "\n",
    "\n",
    "#step3: select the machine learning algorithm\n",
    "\n",
    "#svm\n",
    "clf = svm.SVC()\n",
    "#Decision Tree\n",
    "#clf = tree.DecisionTreeClassifier()\n",
    "\n",
    "#step4: Train the ML Algo with training data\n",
    "clf.fit(x_train, y_train)\n",
    "\n",
    "\n",
    "\n",
    "#step5: Pass the test data for classify or predict\n",
    "classifier_predictions = clf.predict(x_test)\n",
    "\n",
    "\n",
    "#step6. Calculate the Detection Ratio\n",
    "print(\"Calculating Detection Ratio & False \")\n",
    "length = len(y_test)\n",
    "DD = 0\n",
    "DN = 0\n",
    "FD = 0\n",
    "TN = 0\n",
    "for i in range(0,length):\n",
    "    #print(\"Actual\",y_test[i], \"prediction\", classifier_predictions[i])\n",
    "    #Calculating DR\n",
    "    if y_test[i] == 1.0:\n",
    "        if classifier_predictions[i] == 1.0:\n",
    "            DD = DD + 1\n",
    "        else:\n",
    "            DN = DN + 1\n",
    "    #calculating FAR\n",
    "    if y_test[i] == 0.0:\n",
    "        if classifier_predictions[i] == 1.0:\n",
    "            FD = FD + 1\n",
    "        else:\n",
    "            TN = TN + 1\n",
    "#print(\"DD\", DD , \"DN\", DN)\n",
    "DR = DD / (DD + DN)\n",
    "print(\"Detection rate \", DR)\n",
    "\n",
    "\n",
    "#print(\"FD\", FD , \"TN\", TN)\n",
    "FAR = FD / (FD + TN)\n",
    "print(\"False Alarm rate \", FAR)\n"
   ]
  },
  {
   "cell_type": "code",
   "execution_count": null,
   "metadata": {},
   "outputs": [],
   "source": []
  }
 ],
 "metadata": {
  "anaconda-cloud": {},
  "kernelspec": {
   "display_name": "Python 3 (ipykernel)",
   "language": "python",
   "name": "python3"
  },
  "language_info": {
   "codemirror_mode": {
    "name": "ipython",
    "version": 3
   },
   "file_extension": ".py",
   "mimetype": "text/x-python",
   "name": "python",
   "nbconvert_exporter": "python",
   "pygments_lexer": "ipython3",
   "version": "3.9.12"
  }
 },
 "nbformat": 4,
 "nbformat_minor": 4
}
